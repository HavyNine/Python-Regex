{
 "cells": [
  {
   "cell_type": "markdown",
   "id": "31d8e486",
   "metadata": {},
   "source": [
    "<h1>Introduction to Python Regex Module</h1>\n",
    "In this notebook, we explore regex module functions and capabilities<br>\n",
    "https://docs.python.org/3/library/re.html"
   ]
  },
  {
   "cell_type": "code",
   "execution_count": 1,
   "id": "caaa68ad",
   "metadata": {},
   "outputs": [],
   "source": [
    "# import python regex module\n",
    "import re"
   ]
  },
  {
   "cell_type": "markdown",
   "id": "ef19d961",
   "metadata": {},
   "source": [
    "<h2>Raw String and Regular String</h2>\n",
    "Always use Raw string for Regex Patterns"
   ]
  },
  {
   "cell_type": "code",
   "execution_count": 2,
   "id": "d7615e37",
   "metadata": {},
   "outputs": [
    {
     "name": "stdout",
     "output_type": "stream",
     "text": [
      "a\tb\n"
     ]
    }
   ],
   "source": [
    "#Normal String\n",
    "s= \"a\\tb\"\n",
    "print(s)"
   ]
  },
  {
   "cell_type": "code",
   "execution_count": 3,
   "id": "471f2a85",
   "metadata": {},
   "outputs": [
    {
     "name": "stdout",
     "output_type": "stream",
     "text": [
      "a\\tb\n"
     ]
    }
   ],
   "source": [
    "#raw String\n",
    "raw_s = r\"a\\tb\"\n",
    "print(raw_s)"
   ]
  },
  {
   "cell_type": "markdown",
   "id": "2c559b78",
   "metadata": {},
   "source": [
    "<h2>re.match - Find first match</h2>\n",
    "Find match at the beginning of a string<br>\n",
    "Useful for validating input from users"
   ]
  },
  {
   "cell_type": "code",
   "execution_count": 4,
   "id": "efad9093",
   "metadata": {},
   "outputs": [],
   "source": [
    "pattern = r\"\\d+\"\n",
    "text = \"is as perfect number 28\""
   ]
  },
  {
   "cell_type": "code",
   "execution_count": 5,
   "id": "69b3759f",
   "metadata": {},
   "outputs": [],
   "source": [
    "match = re.match(pattern, text)"
   ]
  },
  {
   "cell_type": "code",
   "execution_count": 6,
   "id": "255370ea",
   "metadata": {},
   "outputs": [
    {
     "name": "stdout",
     "output_type": "stream",
     "text": [
      "fail\n"
     ]
    }
   ],
   "source": [
    "if match:\n",
    "    print(match.group(0), \"at index\", match.start()) #print the match index\n",
    "else:\n",
    "    print(\"fail\")"
   ]
  },
  {
   "cell_type": "code",
   "execution_count": 7,
   "id": "0902adf4",
   "metadata": {},
   "outputs": [
    {
     "name": "stdout",
     "output_type": "stream",
     "text": [
      "fail\n"
     ]
    }
   ],
   "source": [
    "if match:\n",
    "    print('sucess')\n",
    "else:\n",
    "    print(\"fail\")"
   ]
  },
  {
   "cell_type": "markdown",
   "id": "fe1cf817",
   "metadata": {},
   "source": [
    "<h3>input validation</h3>"
   ]
  },
  {
   "cell_type": "code",
   "execution_count": 12,
   "id": "df5bff3f",
   "metadata": {},
   "outputs": [],
   "source": [
    "##Criando uma função de validação\n",
    "def is_interger(text):\n",
    "    pattern =  r\"\\d+$\"\n",
    "    \n",
    "    match = re.match(pattern,text)\n",
    "    \n",
    "    if match:\n",
    "        return True\n",
    "    else:\n",
    "        return False\n"
   ]
  },
  {
   "cell_type": "code",
   "execution_count": 13,
   "id": "dcebfed5",
   "metadata": {},
   "outputs": [
    {
     "name": "stdout",
     "output_type": "stream",
     "text": [
      "True\n",
      "False\n"
     ]
    }
   ],
   "source": [
    "print(is_interger(\"123\"))\n",
    "print(is_interger(\"abc\"))"
   ]
  },
  {
   "cell_type": "code",
   "execution_count": 14,
   "id": "a7e13d7a",
   "metadata": {},
   "outputs": [],
   "source": [
    "##Unit Test\n",
    "def test_integer():\n",
    "    pass_list = ['123','8','000']\n",
    "    fail_lis = ['a123','a5825',' 9 8 5']\n",
    "    \n",
    "    for item in pass_list:\n",
    "        if not is_interger(item):\n",
    "            print(\"\\tFailed to detect an integer\", text)\n",
    "            \n",
    "    for item in fail_lis:\n",
    "        if is_interger(text):\n",
    "            print(\"\\tIncorrect classification as an integer\", text)\n",
    "    \n",
    "    print(\"End of the test\")"
   ]
  },
  {
   "cell_type": "code",
   "execution_count": 15,
   "id": "925e821d",
   "metadata": {},
   "outputs": [
    {
     "name": "stdout",
     "output_type": "stream",
     "text": [
      "End of the test\n"
     ]
    }
   ],
   "source": [
    "test_integer()"
   ]
  },
  {
   "cell_type": "markdown",
   "id": "31795ce5",
   "metadata": {},
   "source": [
    "<h2>re.search - Find the first match anywhere</h2>"
   ]
  },
  {
   "cell_type": "code",
   "execution_count": null,
   "id": "a3275853",
   "metadata": {
    "scrolled": true
   },
   "outputs": [],
   "source": []
  },
  {
   "cell_type": "markdown",
   "id": "c3afd6d5",
   "metadata": {},
   "source": [
    "<h4>TODO: Modify is_integer to use search method</h4>"
   ]
  },
  {
   "cell_type": "markdown",
   "id": "57bcf379",
   "metadata": {},
   "source": [
    "<h2>re.findall - Find all the matches</h2>\n",
    "method returns only after scanning the entire text"
   ]
  },
  {
   "cell_type": "code",
   "execution_count": null,
   "id": "50ad0864",
   "metadata": {},
   "outputs": [],
   "source": []
  },
  {
   "cell_type": "markdown",
   "id": "2250ae0e",
   "metadata": {},
   "source": [
    "<h2>re.finditer - Iterator</h2>\n",
    "method returns an iterator with the first match and you have control to ask for more matches"
   ]
  },
  {
   "cell_type": "code",
   "execution_count": null,
   "id": "359791f6",
   "metadata": {},
   "outputs": [],
   "source": [
    "    "
   ]
  },
  {
   "cell_type": "markdown",
   "id": "9deca0a0",
   "metadata": {},
   "source": [
    "<h2>groups - find sub matches </h2>"
   ]
  },
  {
   "cell_type": "code",
   "execution_count": null,
   "id": "8f98dbaa",
   "metadata": {},
   "outputs": [],
   "source": []
  },
  {
   "cell_type": "markdown",
   "id": "87af9436",
   "metadata": {},
   "source": [
    "<h3>named groups</h3>"
   ]
  },
  {
   "cell_type": "code",
   "execution_count": null,
   "id": "a83b419f",
   "metadata": {},
   "outputs": [],
   "source": []
  },
  {
   "cell_type": "markdown",
   "id": "7c3e5cd9",
   "metadata": {},
   "source": [
    "<h3>access by group name</h3>"
   ]
  },
  {
   "cell_type": "code",
   "execution_count": null,
   "id": "e459ae45",
   "metadata": {},
   "outputs": [],
   "source": []
  },
  {
   "cell_type": "markdown",
   "id": "f89c2f99",
   "metadata": {},
   "source": [
    "<h2>re.sub - find and replace</h2>"
   ]
  },
  {
   "cell_type": "markdown",
   "id": "af623e76",
   "metadata": {},
   "source": [
    "<h3>two patterns: one to find the text and another pattern with replacement text</h3>"
   ]
  },
  {
   "cell_type": "code",
   "execution_count": null,
   "id": "e7774575",
   "metadata": {},
   "outputs": [],
   "source": []
  },
  {
   "cell_type": "markdown",
   "id": "2f273d50",
   "metadata": {},
   "source": [
    "<h3>custom function to generate replacement text</h3>"
   ]
  },
  {
   "cell_type": "code",
   "execution_count": null,
   "id": "e1b7f84e",
   "metadata": {},
   "outputs": [],
   "source": []
  },
  {
   "cell_type": "markdown",
   "id": "4115ea75",
   "metadata": {},
   "source": [
    "<h2>re.split - split text based on specified pattern</h2>"
   ]
  },
  {
   "cell_type": "code",
   "execution_count": null,
   "id": "ff7fd3ad",
   "metadata": {},
   "outputs": [],
   "source": []
  },
  {
   "cell_type": "markdown",
   "id": "8c7c5104-b049-4c46-935f-32edb0ff96d8",
   "metadata": {},
   "source": [
    "<h2>Raw String and Regular String</h2>\n",
    "Always use Raw string for Regex Patterns"
   ]
  },
  {
   "cell_type": "code",
   "execution_count": null,
   "id": "bbd56dff-c2fc-4706-bf72-677e7021116d",
   "metadata": {},
   "outputs": [],
   "source": []
  }
 ],
 "metadata": {
  "kernelspec": {
   "display_name": "Python 3 (ipykernel)",
   "language": "python",
   "name": "python3"
  },
  "language_info": {
   "codemirror_mode": {
    "name": "ipython",
    "version": 3
   },
   "file_extension": ".py",
   "mimetype": "text/x-python",
   "name": "python",
   "nbconvert_exporter": "python",
   "pygments_lexer": "ipython3",
   "version": "3.9.12"
  }
 },
 "nbformat": 4,
 "nbformat_minor": 5
}
